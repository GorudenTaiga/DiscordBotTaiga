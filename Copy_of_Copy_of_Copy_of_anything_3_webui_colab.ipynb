{
  "cells": [
    {
      "cell_type": "markdown",
      "metadata": {
        "id": "view-in-github",
        "colab_type": "text"
      },
      "source": [
        "<a href=\"https://colab.research.google.com/github/GorudenTaiga/DiscordBotTaiga/blob/main/Copy_of_Copy_of_Copy_of_anything_3_webui_colab.ipynb\" target=\"_parent\"><img src=\"https://colab.research.google.com/assets/colab-badge.svg\" alt=\"Open In Colab\"/></a>"
      ]
    },
    {
      "cell_type": "markdown",
      "source": [
        " kalo mau nyoba wd-1.4 jangan pake google drive"
      ],
      "metadata": {
        "id": "rGZgu-rfvkmp"
      }
    },
    {
      "cell_type": "code",
      "source": [
        "from google.colab import drive\n",
        "drive.mount('/content/drive')"
      ],
      "metadata": {
        "id": "NkxLGps08p31"
      },
      "execution_count": null,
      "outputs": []
    },
    {
      "cell_type": "code",
      "source": [
        "!nvidia-smi"
      ],
      "metadata": {
        "id": "9ijF-dcCFub3"
      },
      "execution_count": null,
      "outputs": []
    },
    {
      "cell_type": "markdown",
      "source": [
        "Install web ui with extension"
      ],
      "metadata": {
        "id": "n2KQ2iywFo18"
      }
    },
    {
      "cell_type": "code",
      "source": [
        "!pip install -q https://github.com/camenduru/stable-diffusion-webui-colab/releases/download/0.0.15/xformers-0.0.15.dev0+189828c.d20221207-cp38-cp38-linux_x86_64.whl\n",
        "\n",
        "!git clone https://github.com/camenduru/stable-diffusion-webui\n",
        "!git clone https://github.com/yfszzx/stable-diffusion-webui-images-browser /content/stable-diffusion-webui/extensions/stable-diffusion-webui-images-browser\n",
        "!git clone https://github.com/DominikDoom/a1111-sd-webui-tagcomplete.git /content/stable-diffusion-webui/extensions/tag-autocomplete\n",
        "!git clone https://github.com/animerl/novelai-2-local-prompt.git /content/stable-diffusion-webui/extensions/novelai-2-local-prompt\n"
      ],
      "metadata": {
        "id": "juuIkrv5Fhx-"
      },
      "execution_count": null,
      "outputs": []
    },
    {
      "cell_type": "markdown",
      "source": [
        "Download Model"
      ],
      "metadata": {
        "id": "DXLfaEloF2sK"
      }
    },
    {
      "cell_type": "code",
      "execution_count": null,
      "metadata": {
        "id": "SaAJk33ppFw1"
      },
      "outputs": [],
      "source": [
        "%cd /content/stable-diffusion-webui/models/Stable-diffusion/\n",
        "!apt install -y -qq aria2\n",
        "\n",
        "########################\n",
        "# ACertainThing model\n",
        "#!aria2c --summary-interval=10 -x 16 -s 16 --allow-overwrite=true -Z https://huggingface.co/JosephusCheung/ACertainThing/resolve/main/ACertainThing.ckpt\n",
        "#!aria2c --summary-interval=10 -x 16 -s 16 --allow-overwrite=true -Z https://huggingface.co/JosephusCheung/ACertainThing/resolve/main/vae/diffusion_pytorch_model.bin\n",
        "#!mv diffusion_pytorch_model.bin ../VAE/ACertainThing.bin\n",
        "########################\n",
        "# Anything-V3.0-pruned model\n",
        "!aria2c --summary-interval=10 -x 16 -s 16 --allow-overwrite=true -Z https://huggingface.co/Linaqruf/anything-v3.0/resolve/main/Anything-V3.0-pruned.ckpt\n",
        "!aria2c --summary-interval=10 -x 16 -s 16 --allow-overwrite=true -Z https://huggingface.co/Linaqruf/anything-v3.0/resolve/main/Anything-V3.0.vae.pt\n",
        "########################\n",
        "# nutmeg-mix model\n",
        "# !aria2c --summary-interval=10 -x 16 -s 16 --allow-overwrite=true -Z https://huggingface.co/NUROISEA/anything-mix/resolve/main/nutmeg-mix.ckpt\n",
        "########################\n",
        "# waifu-diffusion-v1-4 model\n",
        "#!aria2c --summary-interval=10 -x 16 -s 16 --allow-overwrite=true -Z https://huggingface.co/hakurei/waifu-diffusion-v1-4/resolve/main/wd-1-4-anime_e1.ckpt\n",
        "#!aria2c --summary-interval=10 -x 16 -s 16 --allow-overwrite=true -Z -o wd-1-4.vae.pt https://huggingface.co/hakurei/waifu-diffusion-v1-4/resolve/main/vae/kl-f8-anime2.ckpt\n",
        "#!aria2c --summary-interval=10 -x 16 -s 16 --allow-overwrite=true -Z https://huggingface.co/hakurei/waifu-diffusion-v1-4/raw/main/wd-1-4-anime_e1.yaml\n",
        "########################\n",
        "# bad prompt\n",
        "# !aria2c --summary-interval=10 -x 16 -s 16 --allow-overwrite=true -Z https://huggingface.co/datasets/Nerfgun3/bad_prompt/resolve/main/bad_prompt_version2.pt\n",
        "# !aria2c --summary-interval=10 -x 16 -s 16 --allow-overwrite=true -Z https://huggingface.co/datasets/Nerfgun3/bad_prompt/resolve/main/bad_prompt.pt"
      ]
    },
    {
      "cell_type": "code",
      "source": [
        "!sed -i 's@cmd_opts.lowram else \\\"cpu\\\"@cmd_opts.lowram else \\\"cuda\\\"@' /content/stable-diffusion-webui/modules/shared.py\n",
        "!sed -i 's/map_location=\"cpu\"/map_location=\"cuda\"/g' /content/stable-diffusion-webui/modules/sd_models.py"
      ],
      "metadata": {
        "id": "vjMZ4VLSIoBz"
      },
      "execution_count": null,
      "outputs": []
    },
    {
      "cell_type": "code",
      "source": [
        "%cd /content/stable-diffusion-webui\n",
        "!python3 launch.py --xformers --lowram --share"
      ],
      "metadata": {
        "id": "Tua0Js0YIRAL"
      },
      "execution_count": null,
      "outputs": []
    }
  ],
  "metadata": {
    "colab": {
      "private_outputs": true,
      "provenance": [],
      "include_colab_link": true
    },
    "gpuClass": "standard",
    "kernelspec": {
      "display_name": "Python 3",
      "name": "python3"
    },
    "language_info": {
      "name": "python"
    },
    "accelerator": "GPU"
  },
  "nbformat": 4,
  "nbformat_minor": 0
}